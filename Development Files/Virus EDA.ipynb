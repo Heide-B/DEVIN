{
 "cells": [
  {
   "cell_type": "code",
   "execution_count": 2,
   "id": "substantial-feeding",
   "metadata": {},
   "outputs": [],
   "source": [
    "import numpy as np\n",
    "import pandas as pd\n",
    "import matplotlib.pyplot as plt\n",
    "import altair\n",
    "from Bio import SeqIO"
   ]
  },
  {
   "cell_type": "code",
   "execution_count": 3,
   "id": "adjusted-firmware",
   "metadata": {},
   "outputs": [],
   "source": [
    "df = pd.read_csv('sequences2.csv')"
   ]
  },
  {
   "cell_type": "code",
   "execution_count": 3,
   "id": "communist-cable",
   "metadata": {},
   "outputs": [
    {
     "data": {
      "text/plain": [
       "(4034, 14)"
      ]
     },
     "execution_count": 3,
     "metadata": {},
     "output_type": "execute_result"
    }
   ],
   "source": [
    "df.shape #(1945, 11)"
   ]
  },
  {
   "cell_type": "code",
   "execution_count": 4,
   "id": "adapted-merchandise",
   "metadata": {},
   "outputs": [
    {
     "name": "stdout",
     "output_type": "stream",
     "text": [
      "<class 'pandas.core.frame.DataFrame'>\n",
      "RangeIndex: 4034 entries, 0 to 4033\n",
      "Data columns (total 14 columns):\n",
      " #   Column            Non-Null Count  Dtype \n",
      "---  ------            --------------  ----- \n",
      " 0   Accession         4034 non-null   object\n",
      " 1   SRA_Accession     1 non-null      object\n",
      " 2   Species           4034 non-null   object\n",
      " 3   Genus             4003 non-null   object\n",
      " 4   Family            4034 non-null   object\n",
      " 5   Molecule_type     4034 non-null   object\n",
      " 6   Length            4034 non-null   int64 \n",
      " 7   Sequence_Type     4034 non-null   object\n",
      " 8   Genotype          784 non-null    object\n",
      " 9   Segment           680 non-null    object\n",
      " 10  Host              3291 non-null   object\n",
      " 11  Isolation_Source  1840 non-null   object\n",
      " 12  BioSample         1 non-null      object\n",
      " 13  GenBank_Title     4034 non-null   object\n",
      "dtypes: int64(1), object(13)\n",
      "memory usage: 441.3+ KB\n"
     ]
    }
   ],
   "source": [
    "df.info()"
   ]
  },
  {
   "cell_type": "code",
   "execution_count": 4,
   "id": "desperate-andrews",
   "metadata": {},
   "outputs": [
    {
     "data": {
      "text/plain": [
       "array(['Homo sapiens', 'Sus scrofa', 'Gallus gallus', 'Columbidae',\n",
       "       'Canis lupus familiaris', 'Bubalus bubalis', 'Feliformia',\n",
       "       'Felis catus', 'Oreochromis', 'Aedes aegypti',\n",
       "       'Macaca fascicularis', 'Armigeres', 'Bos taurus', 'Sus sp.',\n",
       "       'Eonycteris spelaea', 'Rousettus amplexicaudatus', 'Suidae',\n",
       "       'Sus scrofa domesticus', 'Equus caballus', 'Trachinotus blochii',\n",
       "       'Culex bitaeniorhynchus', 'Penaeus monodon'], dtype=object)"
      ]
     },
     "execution_count": 4,
     "metadata": {},
     "output_type": "execute_result"
    }
   ],
   "source": [
    "hosts = df[(df['Host'] == 'Rhizoctonia solani') | (df['Host'] == 'Pyricularia oryzae') | \\\n",
    "              (df['Host'] == 'Oryza sativa') | (df['Host'] == 'Trichomonas vaginalis') | (df['Species']=='Rice ragged stunt virus')\\\n",
    "          | (df['Host'] == 'Saccharum officinarum') | (df['Host'] == 'Saccharum hybrid cultivar') | (df['Host'] == 'Fragaria x ananassa')\\\n",
    "          | (df['Host'] == 'Brassica rapa subsp. pekinensis') | (df['Host'] == 'Capsicum') | (df['Host'] == 'Cucumis sativus')\\\n",
    "          | (df['Host'] == 'Luffa acutangula') | (df['Host'] == 'Momordica charantia') | (df['Host'] == 'Musa textilis')\\\n",
    "          | (df['Host'] == 'Musa acuminata') | (df['Host'] == 'Saccharum sp.') | (df['Host'] == 'Carica papaya') | (df['Species']=='Banana bract mosaic virus')\\\n",
    "          | (df['Species'].str.contains('Bat coronavirus') == True) | (df['Species']=='Betacoronavirus 1')| (df['Species']=='Bat betacoronavirus 1') | (df['Species']=='Bat betacoronavirus')].index\n",
    "\n",
    "df.drop(index=hosts, inplace=True)\n",
    "df = df.dropna(subset=['Host'])\n",
    "df['Host'].unique()"
   ]
  },
  {
   "cell_type": "code",
   "execution_count": 6,
   "id": "adapted-rhythm",
   "metadata": {},
   "outputs": [
    {
     "data": {
      "text/plain": [
       "array(['Dengue virus', 'Betaarterivirus suid 2',\n",
       "       'Severe acute respiratory syndrome-related coronavirus',\n",
       "       'Avian orthoavulavirus 1', 'Norwalk virus', 'Rabies lyssavirus',\n",
       "       'Foot-and-mouth disease virus', 'Enterovirus C', 'Enterovirus A',\n",
       "       'Enterovirus B', 'Rotavirus A', 'Measles morbillivirus',\n",
       "       'Tilapia tilapinevirus', 'Enterovirus D',\n",
       "       'Porcine epidemic diarrhea virus', 'Japanese encephalitis virus',\n",
       "       'Human orthopneumovirus', 'Reston ebolavirus', 'Chikungunya virus',\n",
       "       'Armigeres iflavirus', 'Bovine fever ephemerovirus',\n",
       "       'Infectious bursal disease virus', 'Influenza A virus',\n",
       "       'Influenza B virus', 'Zika virus', 'Pteropine orthoreovirus',\n",
       "       'Quezon mobatvirus', 'Rhinovirus C',\n",
       "       'Middle East respiratory syndrome-related coronavirus',\n",
       "       'Sapporo virus', 'Influenza C virus', 'Orthohepevirus A',\n",
       "       'Mumps orthorubulavirus', 'Hepacivirus C', 'Rhinovirus A',\n",
       "       'Redspotted grouper nervous necrosis virus',\n",
       "       'Human metapneumovirus', 'Human coronavirus HKU1', 'Sindbis virus',\n",
       "       'Gill-associated virus',\n",
       "       'Porcine reproductive and respiratory syndrome virus'],\n",
       "      dtype=object)"
      ]
     },
     "execution_count": 6,
     "metadata": {},
     "output_type": "execute_result"
    }
   ],
   "source": [
    "df['Species'].unique()"
   ]
  },
  {
   "cell_type": "code",
   "execution_count": 5,
   "id": "beneficial-quilt",
   "metadata": {},
   "outputs": [
    {
     "name": "stderr",
     "output_type": "stream",
     "text": [
      "C:\\Users\\hbalcera\\Miniconda3\\lib\\site-packages\\pandas\\core\\frame.py:4305: SettingWithCopyWarning: \n",
      "A value is trying to be set on a copy of a slice from a DataFrame\n",
      "\n",
      "See the caveats in the documentation: https://pandas.pydata.org/pandas-docs/stable/user_guide/indexing.html#returning-a-view-versus-a-copy\n",
      "  return super().drop(\n"
     ]
    }
   ],
   "source": [
    "ss = df[df['Molecule_type']=='ssRNA(+)']\n",
    "hosts = ss[(ss['Host'] == 'Rhizoctonia solani') | (ss['Host'] == 'Pyricularia oryzae') | \\\n",
    "              (ss['Host'] == 'Oryza sativa') | (ss['Host'] == 'Trichomonas vaginalis') | (ss['Species']=='Rice ragged stunt virus')\\\n",
    "          | (ss['Host'] == 'Saccharum officinarum') | (ss['Host'] == 'Saccharum hybrid cultivar') | (ss['Host'] == 'Fragaria x ananassa')\\\n",
    "          | (ss['Host'] == 'Brassica rapa subsp. pekinensis') | (ss['Host'] == 'Capsicum') | (ss['Host'] == 'Cucumis sativus')\\\n",
    "          | (ss['Host'] == 'Luffa acutangula') | (ss['Host'] == 'Momordica charantia') | (ss['Host'] == 'Musa textilis')\\\n",
    "          | (ss['Host'] == 'Musa acuminata') | (ss['Host'] == 'Saccharum sp.') | (ss['Host'] == 'Carica papaya') | (ss['Species']=='Banana bract mosaic virus')\\\n",
    "          | (ss['Species'].str.contains('Bat coronavirus') == True) | (ss['Species']=='Betacoronavirus 1')| (ss['Species']=='Bat betacoronavirus 1') | (ss['Species']=='Bat betacoronavirus')].index\n",
    "hosts = hosts.tolist()\n",
    "\n",
    "ss.drop(index=hosts, inplace=True)\n",
    "ss = ss.dropna(subset=['Host'])"
   ]
  },
  {
   "cell_type": "code",
   "execution_count": 17,
   "id": "offensive-discretion",
   "metadata": {},
   "outputs": [
    {
     "data": {
      "text/plain": [
       "18"
      ]
     },
     "execution_count": 17,
     "metadata": {},
     "output_type": "execute_result"
    }
   ],
   "source": [
    "df[df['Molecule_type']=='dsRNA']['Species'].nunique()"
   ]
  },
  {
   "cell_type": "code",
   "execution_count": 6,
   "id": "complex-explorer",
   "metadata": {},
   "outputs": [
    {
     "data": {
      "text/plain": [
       "array(['Homo sapiens', 'Sus scrofa', 'Bubalus bubalis', 'Aedes aegypti',\n",
       "       'Armigeres', 'Sus sp.', 'Suidae', 'Sus scrofa domesticus',\n",
       "       'Trachinotus blochii', 'Culex bitaeniorhynchus', 'Penaeus monodon'],\n",
       "      dtype=object)"
      ]
     },
     "execution_count": 6,
     "metadata": {},
     "output_type": "execute_result"
    }
   ],
   "source": [
    "ss['Host'].unique()"
   ]
  },
  {
   "cell_type": "code",
   "execution_count": 7,
   "id": "vietnamese-advantage",
   "metadata": {},
   "outputs": [
    {
     "data": {
      "text/plain": [
       "25"
      ]
     },
     "execution_count": 7,
     "metadata": {},
     "output_type": "execute_result"
    }
   ],
   "source": [
    "ss['Species'].sort_values(ascending=True).nunique()"
   ]
  },
  {
   "cell_type": "code",
   "execution_count": 8,
   "id": "forbidden-novelty",
   "metadata": {},
   "outputs": [],
   "source": [
    "species = []\n",
    "for i in ss['Species'].sort_values(ascending=True).unique():\n",
    "    species.append(i)"
   ]
  },
  {
   "cell_type": "code",
   "execution_count": 9,
   "id": "solved-undergraduate",
   "metadata": {},
   "outputs": [],
   "source": [
    "fastas = []\n",
    "for i in species:\n",
    "    fasta = './raw/' + str(i) + '.fasta'\n",
    "    try:\n",
    "        x = SeqIO.read(fasta, 'fasta')\n",
    "        fastas.append(x)\n",
    "    except ValueError:\n",
    "        print (fasta)\n",
    "\n",
    "fasta_dict = dict(list(enumerate(fastas)))"
   ]
  },
  {
   "cell_type": "code",
   "execution_count": 117,
   "id": "diverse-upper",
   "metadata": {},
   "outputs": [],
   "source": [
    "import os\n",
    "path = 'C://Users//hbalcera//00 Eskwelabs//Capstone//raw//genes//'\n",
    "\n",
    "for i in species:\n",
    "    blast = \"\"\"\"\"\"\n",
    "    txtfile = i + '.fasta'\n",
    "    for j in os.listdir(path):\n",
    "        if os.path.isfile(os.path.join(path,j)) and j.startswith(i):\n",
    "            fasta = os.path.join(path,j)\n",
    "            y = open(fasta,'r').read()\n",
    "            blast += y\n",
    "        \n",
    "    textfile = open(txtfile, 'w')\n",
    "    textfile.write(blast)\n",
    "    textfile.close()"
   ]
  },
  {
   "cell_type": "code",
   "execution_count": 10,
   "id": "applicable-income",
   "metadata": {},
   "outputs": [],
   "source": [
    "import os\n",
    "path = 'C://Users//hbalcera//00 Eskwelabs//Capstone//blast//results//'\n",
    "titles = []\n",
    "files = []\n",
    "for i in os.listdir(path):\n",
    "    csv = os.path.join(path,i)\n",
    "    titles.append(i.replace('.csv','').replace(' ','_'))\n",
    "    \n",
    "for i in titles:\n",
    "    file = './blast/results/' + i.replace('_',' ') + '.csv'\n",
    "    files.append(file)"
   ]
  },
  {
   "cell_type": "code",
   "execution_count": 430,
   "id": "assumed-avenue",
   "metadata": {},
   "outputs": [],
   "source": [
    "import os\n",
    "path = 'C://Users//hbalcera//00 Eskwelabs//Capstone//raw//'\n",
    "\n",
    "align = \"\"\"\"\"\"\n",
    "for j in os.listdir(path):\n",
    "    if os.path.isfile(os.path.join(path,j)):\n",
    "        fasta = os.path.join(path,j)\n",
    "        y = open(fasta,'r').read()\n",
    "        align += y\n",
    "        \n",
    "textfile = open('all_fasta.fasta', 'w')\n",
    "textfile.write(align)\n",
    "textfile.close()"
   ]
  },
  {
   "cell_type": "code",
   "execution_count": 11,
   "id": "structural-assurance",
   "metadata": {},
   "outputs": [],
   "source": [
    "dfs = {}\n",
    "for t, f in zip(titles, files):\n",
    "    dfs[t] = pd.read_csv(f)\n",
    "    dfs[t].dropna(inplace=True)"
   ]
  },
  {
   "cell_type": "code",
   "execution_count": 12,
   "id": "artificial-virginia",
   "metadata": {},
   "outputs": [],
   "source": [
    "v_factors = pd.DataFrame()\n",
    "fact = []\n",
    "value = []\n",
    "species = []\n",
    "\n",
    "for i in titles:\n",
    "    if 'Total Score' in dfs[i].columns:\n",
    "        dfs[i].drop(columns=['Total Score'], inplace=True)\n",
    "    if 'E value' in dfs[i].columns:\n",
    "        dfs[i].drop(columns=['E value'], inplace=True)\n",
    "    if 'Acc. Len' in dfs[i].columns:\n",
    "        dfs[i].drop(columns=['Acc. Len'], inplace=True)\n",
    "    if 'Per. ident' in dfs[i].columns:\n",
    "        dfs[i].drop(columns=['Per. ident'], inplace=True)\n",
    "    \n",
    "    test = pd.melt(dfs[i].pivot(columns='Description'))\n",
    "    test.columns = test.columns.fillna('fts')\n",
    "    test.dropna(inplace=True)\n",
    "    for j in range(len(test)):\n",
    "        fact.append(str(test['fts'].iloc[j] +'_'+ test['Description'].iloc[j]))\n",
    "        value.append(test['value'].iloc[j])\n",
    "        species.append(i.replace('_',' '))\n",
    "    \n",
    "v_factors = pd.DataFrame({'Species': species,\n",
    "                         'Factors': fact,\n",
    "                         'Value': value})\n",
    "v_factors['Value'] = v_factors['Value'].astype(str).str.replace(\"%\",\"\", regex=False).astype(float).astype(int)\n",
    "v_factors = v_factors.pivot(columns='Factors', index='Species', values='Value').fillna(0.0)\n",
    "v_factors.dropna(inplace=True)"
   ]
  },
  {
   "cell_type": "code",
   "execution_count": 13,
   "id": "atmospheric-christian",
   "metadata": {},
   "outputs": [],
   "source": [
    "gc = pd.read_csv('GC content.csv', index_col='Species')\n",
    "final_df = pd.concat([v_factors,gc], axis=1)"
   ]
  },
  {
   "cell_type": "code",
   "execution_count": 16,
   "id": "ethical-knight",
   "metadata": {},
   "outputs": [
    {
     "name": "stderr",
     "output_type": "stream",
     "text": [
      "<ipython-input-16-9b4d963d9f9f>:3: SettingWithCopyWarning: \n",
      "A value is trying to be set on a copy of a slice from a DataFrame.\n",
      "Try using .loc[row_indexer,col_indexer] = value instead\n",
      "\n",
      "See the caveats in the documentation: https://pandas.pydata.org/pandas-docs/stable/user_guide/indexing.html#returning-a-view-versus-a-copy\n",
      "  fdf['adhesion'] = final_df['Query Cover_spike'] + final_df['Query Cover_glycoprotein']\n",
      "<ipython-input-16-9b4d963d9f9f>:4: SettingWithCopyWarning: \n",
      "A value is trying to be set on a copy of a slice from a DataFrame.\n",
      "Try using .loc[row_indexer,col_indexer] = value instead\n",
      "\n",
      "See the caveats in the documentation: https://pandas.pydata.org/pandas-docs/stable/user_guide/indexing.html#returning-a-view-versus-a-copy\n",
      "  fdf['encapsidation'] = final_df['Query Cover_nucleocapsid'] + final_df['Query Cover_envelope']\n",
      "<ipython-input-16-9b4d963d9f9f>:5: SettingWithCopyWarning: \n",
      "A value is trying to be set on a copy of a slice from a DataFrame.\n",
      "Try using .loc[row_indexer,col_indexer] = value instead\n",
      "\n",
      "See the caveats in the documentation: https://pandas.pydata.org/pandas-docs/stable/user_guide/indexing.html#returning-a-view-versus-a-copy\n",
      "  fdf['assembly'] = final_df['Query Cover_matrix'] + final_df['Query Cover_membrane']\n",
      "<ipython-input-16-9b4d963d9f9f>:6: SettingWithCopyWarning: \n",
      "A value is trying to be set on a copy of a slice from a DataFrame.\n",
      "Try using .loc[row_indexer,col_indexer] = value instead\n",
      "\n",
      "See the caveats in the documentation: https://pandas.pydata.org/pandas-docs/stable/user_guide/indexing.html#returning-a-view-versus-a-copy\n",
      "  fdf['polyprotein'] = final_df['Query Cover_polyprotein']\n"
     ]
    }
   ],
   "source": [
    "fdf = final_df[['GC%']]\n",
    "\n",
    "fdf['adhesion'] = final_df['Query Cover_spike'] + final_df['Query Cover_glycoprotein']\n",
    "fdf['encapsidation'] = final_df['Query Cover_nucleocapsid'] + final_df['Query Cover_envelope']\n",
    "fdf['assembly'] = final_df['Query Cover_matrix'] + final_df['Query Cover_membrane']\n",
    "fdf['polyprotein'] = final_df['Query Cover_polyprotein']"
   ]
  },
  {
   "cell_type": "code",
   "execution_count": 39,
   "id": "olympic-filing",
   "metadata": {},
   "outputs": [
    {
     "name": "stderr",
     "output_type": "stream",
     "text": [
      "C:\\Users\\hbalcera\\Miniconda3\\lib\\site-packages\\pandas\\core\\indexing.py:692: SettingWithCopyWarning: \n",
      "A value is trying to be set on a copy of a slice from a DataFrame\n",
      "\n",
      "See the caveats in the documentation: https://pandas.pydata.org/pandas-docs/stable/user_guide/indexing.html#returning-a-view-versus-a-copy\n",
      "  iloc._setitem_with_indexer(indexer, value, self.name)\n"
     ]
    }
   ],
   "source": [
    "for row in range(len(fdf)):\n",
    "    score = 0\n",
    "    if fdf['adhesion'].iloc[row] > 0.0:\n",
    "        score += (1 * fdf['adhesion'].iloc[row] / 100)\n",
    "    if fdf['encapsidation'].iloc[row] > 0.0:\n",
    "        score += (1 * fdf['encapsidation'].iloc[row] / 100)\n",
    "    if fdf['assembly'].iloc[row] > 0.0:\n",
    "        score += (1 * fdf['assembly'].iloc[row] / 100)\n",
    "    if fdf['polyprotein'].iloc[row] > 0.0:\n",
    "        score += (1 * fdf['polyprotein'].iloc[row] / 100)\n",
    "    if fdf['GC%'].iloc[row] > 0.0:\n",
    "        score += (1 * fdf['GC%'].iloc[row] / 100)\n",
    "    fdf['virulence_score'].iloc[row] = score"
   ]
  },
  {
   "cell_type": "code",
   "execution_count": 41,
   "id": "magnetic-layer",
   "metadata": {},
   "outputs": [],
   "source": [
    "fdf.sort_values(by='virulence_score', ascending=False).to_csv('final_data.csv')"
   ]
  },
  {
   "cell_type": "code",
   "execution_count": 61,
   "id": "informational-engagement",
   "metadata": {},
   "outputs": [],
   "source": [
    "ss[['Species','Host']].drop_duplicates().reset_index().drop(columns='index').to_csv('Hosts.csv')"
   ]
  }
 ],
 "metadata": {
  "kernelspec": {
   "display_name": "Python 3",
   "language": "python",
   "name": "python3"
  },
  "language_info": {
   "codemirror_mode": {
    "name": "ipython",
    "version": 3
   },
   "file_extension": ".py",
   "mimetype": "text/x-python",
   "name": "python",
   "nbconvert_exporter": "python",
   "pygments_lexer": "ipython3",
   "version": "3.8.5"
  }
 },
 "nbformat": 4,
 "nbformat_minor": 5
}
